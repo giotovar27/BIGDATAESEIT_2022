{
 "cells": [
  {
   "cell_type": "markdown",
   "metadata": {},
   "source": [
    "# EDA (Exploratory Data Analysis) Llamadas 123 Julio 2022"
   ]
  },
  {
   "cell_type": "code",
   "execution_count": 3,
   "metadata": {},
   "outputs": [],
   "source": [
    "# Importar librerias para manipulacion de datos\n",
    "import numpy as np\n",
    "import pandas as pd\n",
    "\n",
    "#Importar librerias de SO\n",
    "import os \n",
    "from pathlib import Path "
   ]
  },
  {
   "cell_type": "code",
   "execution_count": 12,
   "metadata": {},
   "outputs": [
    {
     "name": "stdout",
     "output_type": "stream",
     "text": [
      "El path del proyecto es:  C:\\Users\\Estudiante\\Documents\\ESEIT2022_BDATA_2022b\n"
     ]
    },
    {
     "data": {
      "text/html": [
       "<div>\n",
       "<style scoped>\n",
       "    .dataframe tbody tr th:only-of-type {\n",
       "        vertical-align: middle;\n",
       "    }\n",
       "\n",
       "    .dataframe tbody tr th {\n",
       "        vertical-align: top;\n",
       "    }\n",
       "\n",
       "    .dataframe thead th {\n",
       "        text-align: right;\n",
       "    }\n",
       "</style>\n",
       "<table border=\"1\" class=\"dataframe\">\n",
       "  <thead>\n",
       "    <tr style=\"text-align: right;\">\n",
       "      <th></th>\n",
       "      <th>NUMERO_INCIDENTE</th>\n",
       "      <th>FECHA_INICIO_DESPLAZAMIENTO_MOVIL</th>\n",
       "      <th>CODIGO_LOCALIDAD</th>\n",
       "      <th>LOCALIDAD</th>\n",
       "      <th>EDAD</th>\n",
       "      <th>UNIDAD</th>\n",
       "      <th>GENERO</th>\n",
       "      <th>RED</th>\n",
       "      <th>TIPO_INCIDENTE</th>\n",
       "      <th>PRIORIDAD</th>\n",
       "      <th>RECEPCION</th>\n",
       "    </tr>\n",
       "  </thead>\n",
       "  <tbody>\n",
       "    <tr>\n",
       "      <th>0</th>\n",
       "      <td>CRU-00278353-22</td>\n",
       "      <td>2022-07-01 00:08:59</td>\n",
       "      <td>11</td>\n",
       "      <td>Suba</td>\n",
       "      <td>88</td>\n",
       "      <td>A¤os</td>\n",
       "      <td>FEMENINO</td>\n",
       "      <td>Norte</td>\n",
       "      <td>Accidente Cerebro Vascular</td>\n",
       "      <td>ALTA</td>\n",
       "      <td>2022-07-01 03:40:13</td>\n",
       "    </tr>\n",
       "    <tr>\n",
       "      <th>1</th>\n",
       "      <td>CRU-00278360-22</td>\n",
       "      <td>2022-07-01 00:14:58</td>\n",
       "      <td>11</td>\n",
       "      <td>Suba</td>\n",
       "      <td>16</td>\n",
       "      <td>A¤os</td>\n",
       "      <td>MASCULINO</td>\n",
       "      <td>Norte</td>\n",
       "      <td>Herido</td>\n",
       "      <td>ALTA</td>\n",
       "      <td>2022-07-01 03:38:13</td>\n",
       "    </tr>\n",
       "    <tr>\n",
       "      <th>2</th>\n",
       "      <td>CRU-00278365-22</td>\n",
       "      <td>2022-07-01 00:21:59</td>\n",
       "      <td>18</td>\n",
       "      <td>Rafael Uribe Uribe</td>\n",
       "      <td>52</td>\n",
       "      <td>A¤os</td>\n",
       "      <td>FEMENINO</td>\n",
       "      <td>Centro Oriente</td>\n",
       "      <td>Evento Respiratorio</td>\n",
       "      <td>CRITICA</td>\n",
       "      <td>2022-07-01 04:08:24</td>\n",
       "    </tr>\n",
       "    <tr>\n",
       "      <th>3</th>\n",
       "      <td>CRU-00278370-22</td>\n",
       "      <td>2022-07-01 00:38:38</td>\n",
       "      <td>19</td>\n",
       "      <td>Ciudad Bol¡var</td>\n",
       "      <td>SIN_DATO</td>\n",
       "      <td>SIN_DATO</td>\n",
       "      <td>SIN_DATO</td>\n",
       "      <td>Privada</td>\n",
       "      <td>Herido</td>\n",
       "      <td>ALTA</td>\n",
       "      <td>0000-00-00 00:00:00</td>\n",
       "    </tr>\n",
       "    <tr>\n",
       "      <th>4</th>\n",
       "      <td>CRU-00278372-22</td>\n",
       "      <td>2022-07-01 00:53:32</td>\n",
       "      <td>1</td>\n",
       "      <td>Usaqun</td>\n",
       "      <td>33</td>\n",
       "      <td>A¤os</td>\n",
       "      <td>MASCULINO</td>\n",
       "      <td>Norte</td>\n",
       "      <td>Intento de Suicidio</td>\n",
       "      <td>ALTA</td>\n",
       "      <td>2022-07-01 03:25:29</td>\n",
       "    </tr>\n",
       "  </tbody>\n",
       "</table>\n",
       "</div>"
      ],
      "text/plain": [
       "  NUMERO_INCIDENTE FECHA_INICIO_DESPLAZAMIENTO_MOVIL  CODIGO_LOCALIDAD  \\\n",
       "0  CRU-00278353-22               2022-07-01 00:08:59                11   \n",
       "1  CRU-00278360-22               2022-07-01 00:14:58                11   \n",
       "2  CRU-00278365-22               2022-07-01 00:21:59                18   \n",
       "3  CRU-00278370-22               2022-07-01 00:38:38                19   \n",
       "4  CRU-00278372-22               2022-07-01 00:53:32                 1   \n",
       "\n",
       "            LOCALIDAD      EDAD    UNIDAD     GENERO             RED  \\\n",
       "0                Suba        88      A¤os   FEMENINO           Norte   \n",
       "1                Suba        16      A¤os  MASCULINO           Norte   \n",
       "2  Rafael Uribe Uribe        52      A¤os   FEMENINO  Centro Oriente   \n",
       "3      Ciudad Bol¡var  SIN_DATO  SIN_DATO   SIN_DATO         Privada   \n",
       "4             Usaqun        33      A¤os  MASCULINO           Norte   \n",
       "\n",
       "               TIPO_INCIDENTE PRIORIDAD            RECEPCION  \n",
       "0  Accidente Cerebro Vascular      ALTA  2022-07-01 03:40:13  \n",
       "1                      Herido      ALTA  2022-07-01 03:38:13  \n",
       "2         Evento Respiratorio   CRITICA  2022-07-01 04:08:24  \n",
       "3                      Herido      ALTA  0000-00-00 00:00:00  \n",
       "4         Intento de Suicidio      ALTA  2022-07-01 03:25:29  "
      ]
     },
     "execution_count": 12,
     "metadata": {},
     "output_type": "execute_result"
    }
   ],
   "source": [
    "filename=\"llamadas123_julio_2022.csv\"\n",
    "data_dir=\"raw\"\n",
    "root_dir=Path(\".\").resolve().parent\n",
    "print(\"El path del proyecto es: \", root_dir)\n",
    "\n",
    "file_path=os.path.join(root_dir,\"data\",data_dir,filename)\n",
    "\n",
    "data = pd.read_csv(file_path, encoding='latin-1', sep =';')\n",
    "\n",
    "data.head()\n"
   ]
  },
  {
   "cell_type": "code",
   "execution_count": 23,
   "metadata": {},
   "outputs": [
    {
     "data": {
      "text/plain": [
       "(13055, 11)"
      ]
     },
     "execution_count": 23,
     "metadata": {},
     "output_type": "execute_result"
    }
   ],
   "source": [
    "data.shape # Retorna una tupla con las dimensiones de la tabla (n_rows, n_cols)"
   ]
  },
  {
   "cell_type": "code",
   "execution_count": 25,
   "metadata": {},
   "outputs": [
    {
     "data": {
      "text/plain": [
       "NUMERO_INCIDENTE                     object\n",
       "FECHA_INICIO_DESPLAZAMIENTO_MOVIL    object\n",
       "CODIGO_LOCALIDAD                      int64\n",
       "LOCALIDAD                            object\n",
       "EDAD                                 object\n",
       "UNIDAD                               object\n",
       "GENERO                               object\n",
       "RED                                  object\n",
       "TIPO_INCIDENTE                       object\n",
       "PRIORIDAD                            object\n",
       "RECEPCION                            object\n",
       "dtype: object"
      ]
     },
     "execution_count": 25,
     "metadata": {},
     "output_type": "execute_result"
    }
   ],
   "source": [
    "data.dtypes # retorna los tipos de dato de cada columna"
   ]
  },
  {
   "cell_type": "code",
   "execution_count": 39,
   "metadata": {},
   "outputs": [
    {
     "data": {
      "text/plain": [
       "array(['FEMENINO', 'MASCULINO', 'SIN_DATO'], dtype=object)"
      ]
     },
     "execution_count": 39,
     "metadata": {},
     "output_type": "execute_result"
    }
   ],
   "source": [
    "#Extraer los valores unicos de las columnas\n",
    "col='GENERO'\n",
    "data[col].unique()\n"
   ]
  },
  {
   "cell_type": "code",
   "execution_count": 40,
   "metadata": {},
   "outputs": [
    {
     "data": {
      "text/plain": [
       "3"
      ]
     },
     "execution_count": 40,
     "metadata": {},
     "output_type": "execute_result"
    }
   ],
   "source": [
    "len(data[col].unique())"
   ]
  },
  {
   "cell_type": "code",
   "execution_count": 46,
   "metadata": {},
   "outputs": [
    {
     "name": "stdout",
     "output_type": "stream",
     "text": [
      "NUMERO_INCIDENTE\n",
      "FECHA_INICIO_DESPLAZAMIENTO_MOVIL\n",
      "CODIGO_LOCALIDAD\n",
      "LOCALIDAD\n",
      "EDAD\n",
      "UNIDAD\n",
      "GENERO\n",
      "RED\n",
      "TIPO_INCIDENTE\n",
      "PRIORIDAD\n",
      "RECEPCION\n"
     ]
    }
   ],
   "source": [
    "for col in data.columns:\n",
    "    print(col)"
   ]
  },
  {
   "cell_type": "code",
   "execution_count": 48,
   "metadata": {},
   "outputs": [
    {
     "name": "stdout",
     "output_type": "stream",
     "text": [
      "NUMERO_INCIDENTE 12015\n",
      "FECHA_INICIO_DESPLAZAMIENTO_MOVIL 12781\n",
      "CODIGO_LOCALIDAD 20\n",
      "LOCALIDAD 20\n",
      "EDAD 100\n",
      "UNIDAD 6\n",
      "GENERO 3\n",
      "RED 5\n",
      "TIPO_INCIDENTE 21\n",
      "PRIORIDAD 4\n",
      "RECEPCION 5235\n"
     ]
    }
   ],
   "source": [
    "for col in data.columns:\n",
    "    #valores_unicos=data[col].unique() -> Guardando en Variable\n",
    "    n_valores= len(data[col].unique()) # -> Contandolo sin guardar en variable\n",
    "    print(col, n_valores) # Imprime los nombres de las columnas + funcion len (el len es similar a un distinct + un count)"
   ]
  },
  {
   "cell_type": "code",
   "execution_count": 49,
   "metadata": {},
   "outputs": [
    {
     "data": {
      "text/plain": [
       "{'NUMERO_INCIDENTE': 12015,\n",
       " 'FECHA_INICIO_DESPLAZAMIENTO_MOVIL': 12781,\n",
       " 'CODIGO_LOCALIDAD': 20,\n",
       " 'LOCALIDAD': 20,\n",
       " 'EDAD': 100,\n",
       " 'UNIDAD': 6,\n",
       " 'GENERO': 3,\n",
       " 'RED': 5,\n",
       " 'TIPO_INCIDENTE': 21,\n",
       " 'PRIORIDAD': 4,\n",
       " 'RECEPCION': 5235}"
      ]
     },
     "execution_count": 49,
     "metadata": {},
     "output_type": "execute_result"
    }
   ],
   "source": [
    "#Crear un diccionario vacio\n",
    "dict_resumen = dict()\n",
    "for col in data.columns:\n",
    "    valores_unicos=data[col].unique() \n",
    "    n_valores= len(valores_unicos) \n",
    "    \n",
    "    dict_resumen[col] = n_valores\n",
    "\n",
    "dict_resumen\n",
    "\n",
    "#Tuplas ()\n",
    "#Listas []\n",
    "#Diccionarios {}"
   ]
  },
  {
   "cell_type": "code",
   "execution_count": 51,
   "metadata": {},
   "outputs": [
    {
     "data": {
      "text/html": [
       "<div>\n",
       "<style scoped>\n",
       "    .dataframe tbody tr th:only-of-type {\n",
       "        vertical-align: middle;\n",
       "    }\n",
       "\n",
       "    .dataframe tbody tr th {\n",
       "        vertical-align: top;\n",
       "    }\n",
       "\n",
       "    .dataframe thead th {\n",
       "        text-align: right;\n",
       "    }\n",
       "</style>\n",
       "<table border=\"1\" class=\"dataframe\">\n",
       "  <thead>\n",
       "    <tr style=\"text-align: right;\">\n",
       "      <th></th>\n",
       "      <th>0</th>\n",
       "    </tr>\n",
       "  </thead>\n",
       "  <tbody>\n",
       "    <tr>\n",
       "      <th>NUMERO_INCIDENTE</th>\n",
       "      <td>12015</td>\n",
       "    </tr>\n",
       "    <tr>\n",
       "      <th>FECHA_INICIO_DESPLAZAMIENTO_MOVIL</th>\n",
       "      <td>12781</td>\n",
       "    </tr>\n",
       "    <tr>\n",
       "      <th>CODIGO_LOCALIDAD</th>\n",
       "      <td>20</td>\n",
       "    </tr>\n",
       "    <tr>\n",
       "      <th>LOCALIDAD</th>\n",
       "      <td>20</td>\n",
       "    </tr>\n",
       "    <tr>\n",
       "      <th>EDAD</th>\n",
       "      <td>100</td>\n",
       "    </tr>\n",
       "    <tr>\n",
       "      <th>UNIDAD</th>\n",
       "      <td>6</td>\n",
       "    </tr>\n",
       "    <tr>\n",
       "      <th>GENERO</th>\n",
       "      <td>3</td>\n",
       "    </tr>\n",
       "    <tr>\n",
       "      <th>RED</th>\n",
       "      <td>5</td>\n",
       "    </tr>\n",
       "    <tr>\n",
       "      <th>TIPO_INCIDENTE</th>\n",
       "      <td>21</td>\n",
       "    </tr>\n",
       "    <tr>\n",
       "      <th>PRIORIDAD</th>\n",
       "      <td>4</td>\n",
       "    </tr>\n",
       "    <tr>\n",
       "      <th>RECEPCION</th>\n",
       "      <td>5235</td>\n",
       "    </tr>\n",
       "  </tbody>\n",
       "</table>\n",
       "</div>"
      ],
      "text/plain": [
       "                                       0\n",
       "NUMERO_INCIDENTE                   12015\n",
       "FECHA_INICIO_DESPLAZAMIENTO_MOVIL  12781\n",
       "CODIGO_LOCALIDAD                      20\n",
       "LOCALIDAD                             20\n",
       "EDAD                                 100\n",
       "UNIDAD                                 6\n",
       "GENERO                                 3\n",
       "RED                                    5\n",
       "TIPO_INCIDENTE                        21\n",
       "PRIORIDAD                              4\n",
       "RECEPCION                           5235"
      ]
     },
     "execution_count": 51,
     "metadata": {},
     "output_type": "execute_result"
    }
   ],
   "source": [
    "pd.DataFrame.from_dict(dict_resumen, orient='index')"
   ]
  },
  {
   "cell_type": "code",
   "execution_count": 62,
   "metadata": {},
   "outputs": [
    {
     "data": {
      "text/html": [
       "<div>\n",
       "<style scoped>\n",
       "    .dataframe tbody tr th:only-of-type {\n",
       "        vertical-align: middle;\n",
       "    }\n",
       "\n",
       "    .dataframe tbody tr th {\n",
       "        vertical-align: top;\n",
       "    }\n",
       "\n",
       "    .dataframe thead th {\n",
       "        text-align: right;\n",
       "    }\n",
       "</style>\n",
       "<table border=\"1\" class=\"dataframe\">\n",
       "  <thead>\n",
       "    <tr style=\"text-align: right;\">\n",
       "      <th></th>\n",
       "      <th>Count</th>\n",
       "    </tr>\n",
       "  </thead>\n",
       "  <tbody>\n",
       "    <tr>\n",
       "      <th>NUMERO_INCIDENTE</th>\n",
       "      <td>12015</td>\n",
       "    </tr>\n",
       "    <tr>\n",
       "      <th>FECHA_INICIO_DESPLAZAMIENTO_MOVIL</th>\n",
       "      <td>12781</td>\n",
       "    </tr>\n",
       "    <tr>\n",
       "      <th>CODIGO_LOCALIDAD</th>\n",
       "      <td>20</td>\n",
       "    </tr>\n",
       "    <tr>\n",
       "      <th>LOCALIDAD</th>\n",
       "      <td>20</td>\n",
       "    </tr>\n",
       "    <tr>\n",
       "      <th>EDAD</th>\n",
       "      <td>100</td>\n",
       "    </tr>\n",
       "    <tr>\n",
       "      <th>UNIDAD</th>\n",
       "      <td>6</td>\n",
       "    </tr>\n",
       "    <tr>\n",
       "      <th>GENERO</th>\n",
       "      <td>3</td>\n",
       "    </tr>\n",
       "    <tr>\n",
       "      <th>RED</th>\n",
       "      <td>5</td>\n",
       "    </tr>\n",
       "    <tr>\n",
       "      <th>TIPO_INCIDENTE</th>\n",
       "      <td>21</td>\n",
       "    </tr>\n",
       "    <tr>\n",
       "      <th>PRIORIDAD</th>\n",
       "      <td>4</td>\n",
       "    </tr>\n",
       "    <tr>\n",
       "      <th>RECEPCION</th>\n",
       "      <td>5235</td>\n",
       "    </tr>\n",
       "  </tbody>\n",
       "</table>\n",
       "</div>"
      ],
      "text/plain": [
       "                                   Count\n",
       "NUMERO_INCIDENTE                   12015\n",
       "FECHA_INICIO_DESPLAZAMIENTO_MOVIL  12781\n",
       "CODIGO_LOCALIDAD                      20\n",
       "LOCALIDAD                             20\n",
       "EDAD                                 100\n",
       "UNIDAD                                 6\n",
       "GENERO                                 3\n",
       "RED                                    5\n",
       "TIPO_INCIDENTE                        21\n",
       "PRIORIDAD                              4\n",
       "RECEPCION                           5235"
      ]
     },
     "execution_count": 62,
     "metadata": {},
     "output_type": "execute_result"
    }
   ],
   "source": [
    "df_resumen = pd.DataFrame.from_dict(dict_resumen, orient='index')\n",
    "df_resumen [0]\n",
    "df_resumen.rename ({0:'Count'},axis=1, inplace=True) # Axis 0 Filas, Axis 1 Columnas\n",
    "\n",
    "df_resumen"
   ]
  },
  {
   "cell_type": "code",
   "execution_count": 64,
   "metadata": {},
   "outputs": [],
   "source": [
    "out_name = 'resumen_' + filename\n",
    "out_path = os.path.join(root_dir, 'data','processed',out_name)\n",
    "df_resumen.to_csv(out_path)"
   ]
  }
 ],
 "metadata": {
  "kernelspec": {
   "display_name": "Python 3.9.7 ('base')",
   "language": "python",
   "name": "python3"
  },
  "language_info": {
   "codemirror_mode": {
    "name": "ipython",
    "version": 3
   },
   "file_extension": ".py",
   "mimetype": "text/x-python",
   "name": "python",
   "nbconvert_exporter": "python",
   "pygments_lexer": "ipython3",
   "version": "3.9.7"
  },
  "orig_nbformat": 4,
  "vscode": {
   "interpreter": {
    "hash": "5bbb66000b68ee69c872f010f4cec997b8fc0bf3f57740b75fd0c1ccdb361e03"
   }
  }
 },
 "nbformat": 4,
 "nbformat_minor": 2
}
