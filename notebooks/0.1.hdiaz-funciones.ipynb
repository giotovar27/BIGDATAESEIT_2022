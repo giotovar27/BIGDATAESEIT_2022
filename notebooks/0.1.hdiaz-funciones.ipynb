{
 "cells": [
  {
   "cell_type": "markdown",
   "metadata": {},
   "source": [
    "* Pipeline (Como viajan los datos dentro del script)\n",
    "\n",
    "read_data --> get_summary --> save_data"
   ]
  },
  {
   "cell_type": "markdown",
   "metadata": {},
   "source": [
    "PSEUDO CODIGO\n",
    "def main()\n",
    "    get_data()\n",
    "    get_summary()\n",
    "    save_data ()"
   ]
  },
  {
   "cell_type": "markdown",
   "metadata": {},
   "source": [
    "# Mas de funciones  "
   ]
  },
  {
   "cell_type": "code",
   "execution_count": 15,
   "metadata": {},
   "outputs": [],
   "source": [
    "#Funcion que calcule:\n",
    "# 1. La suma de todos los numeros de una lista\n",
    "# 2. Minimo valor de la lista\n",
    "# 3. Maximo valor de la lista\n",
    "# 4. La media y desviacion estandar."
   ]
  },
  {
   "cell_type": "code",
   "execution_count": 43,
   "metadata": {},
   "outputs": [],
   "source": [
    "from tabnanny import verbose\n",
    "import numpy as np\n",
    "\n",
    "\n",
    "def calcular_min_max(lista_numeros, verbose=True):\n",
    "    \"\"\"Calcula el Minimo y Maximo de una lista de numeros\n",
    "\n",
    "    Args:\n",
    "        lista_numeros (list): lista con valores numericos\n",
    "        verbose (bool, optional): Decidir si imprimir el mensaje en pantalla  Defaults to True.\n",
    "\n",
    "    Returns:\n",
    "        tuple: con el minimo y maximo\n",
    "    \"\"\"\n",
    "    \n",
    "    min_value=min(lista_numeros)\n",
    "    max_value=max(lista_numeros)\n",
    "\n",
    "    if verbose==True:\n",
    "        print(\"el valor minimo es: \", min_value)\n",
    "        print(\"el valor maximo es: \", max_value)\n",
    "    else:\n",
    "        pass\n",
    "\n",
    "    return min_value, max_value\n",
    "\n",
    "\n",
    "def calcular_valores_centrales(lista_numeros, verbose=True):\n",
    "    \"\"\"_summary_\n",
    "\n",
    "    Args:\n",
    "        lista_numeros (list): lista con valores numericos\n",
    "        verbose (bool, optional): Decidir si imprimir el mensaje en pantalla  Defaults to True.\n",
    "\n",
    "    Returns:\n",
    "        tuple: (media,dev_std)\n",
    "    \"\"\"\n",
    "\n",
    "    media=np.mean(lista_numeros)\n",
    "    dev_std=np.std(lista_numeros)\n",
    "\n",
    "    if verbose==True:\n",
    "        print(\"La media es: \", media)\n",
    "        print(\"La desviacion estandar es: \", dev_std)\n",
    "    else:\n",
    "        pass\n",
    "\n",
    "\n",
    "    return media, dev_std\n",
    "\n",
    "def calcular_valores(lista_numeros):\n",
    "\n",
    "    suma= np.sum(lista_numeros)\n",
    "    print(\"La suma es\",suma)\n",
    "    # suma = calcular_suma(lista_numeros)\n",
    "    min_val, max_val = calcular_min_max(lista_numeros)\n",
    "    media, dev_std = calcular_valores_centrales(lista_numeros)\n",
    "\n",
    "    return suma, min_val, max_val, media, dev_std"
   ]
  },
  {
   "cell_type": "code",
   "execution_count": 39,
   "metadata": {},
   "outputs": [
    {
     "data": {
      "text/plain": [
       "(1, 9)"
      ]
     },
     "execution_count": 39,
     "metadata": {},
     "output_type": "execute_result"
    }
   ],
   "source": [
    "lista_valores = [1,3,5,7,9]\n",
    "calcular_min_max(lista_numeros=lista_valores, verbose=False)"
   ]
  },
  {
   "cell_type": "code",
   "execution_count": 35,
   "metadata": {},
   "outputs": [
    {
     "name": "stdout",
     "output_type": "stream",
     "text": [
      "La media es:  20.0\n",
      "La desviacion estandar es:  11.532562594670797\n"
     ]
    },
    {
     "data": {
      "text/plain": [
       "(20.0, 11.532562594670797)"
      ]
     },
     "execution_count": 35,
     "metadata": {},
     "output_type": "execute_result"
    }
   ],
   "source": [
    "lista_valores = [1,3,5,7,9,11,13,15,17,19,21,23,25,27,29,31,33,35,37,39]\n",
    "calcular_valores_centrales(lista_numeros=lista_valores, verbose=True)"
   ]
  },
  {
   "cell_type": "code",
   "execution_count": 44,
   "metadata": {},
   "outputs": [
    {
     "name": "stdout",
     "output_type": "stream",
     "text": [
      "La suma es 25\n",
      "el valor minimo es:  1\n",
      "el valor maximo es:  9\n",
      "La media es:  5.0\n",
      "La desviacion estandar es:  2.8284271247461903\n"
     ]
    },
    {
     "data": {
      "text/plain": [
       "(25, 1, 9, 5.0, 2.8284271247461903)"
      ]
     },
     "execution_count": 44,
     "metadata": {},
     "output_type": "execute_result"
    }
   ],
   "source": [
    "calcular_valores(lista_valores)"
   ]
  }
 ],
 "metadata": {
  "kernelspec": {
   "display_name": "Python 3.9.7 ('base')",
   "language": "python",
   "name": "python3"
  },
  "language_info": {
   "codemirror_mode": {
    "name": "ipython",
    "version": 3
   },
   "file_extension": ".py",
   "mimetype": "text/x-python",
   "name": "python",
   "nbconvert_exporter": "python",
   "pygments_lexer": "ipython3",
   "version": "3.9.7"
  },
  "orig_nbformat": 4,
  "vscode": {
   "interpreter": {
    "hash": "5bbb66000b68ee69c872f010f4cec997b8fc0bf3f57740b75fd0c1ccdb361e03"
   }
  }
 },
 "nbformat": 4,
 "nbformat_minor": 2
}
